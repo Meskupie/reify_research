{
 "cells": [
  {
   "cell_type": "code",
   "execution_count": 15,
   "metadata": {},
   "outputs": [],
   "source": [
    "basePath = '../calibration_data/western_battery_1/'\n",
    "labelsRelativePath = basePath + 'labels.yaml'\n",
    "imagesRelativePath = basePath + 'calibration_scene_images'\n",
    "matchesRelativePath = basePath + 'calibration_scene_matches'\n",
    "reconstructionRelativePath = basePath + 'calibration_scene_reconstruction'\n",
    "\n",
    "import os\n",
    "basePath = os.path.abspath('')\n",
    "labelsPath = os.path.join(basePath, labelsRelativePath)\n",
    "matchesPath = os.path.join(basePath, matchesRelativePath)\n",
    "sfmDataRelativePath = os.path.join(matchesRelativePath,'sfm_data.json')\n",
    "sfmDataPath = os.path.join(matchesPath,'sfm_data.json')\n",
    "reconstructionPath = os.path.join(basePath, reconstructionRelativePath)\n",
    "\n",
    "\n",
    "import json\n",
    "import yaml\n",
    "import itertools\n",
    "import numpy as np\n",
    "from collections import OrderedDict \n",
    "\n",
    "assert os.path.isfile(labelsPath), \"Cant find your label yaml file\""
   ]
  },
  {
   "cell_type": "code",
   "execution_count": 16,
   "metadata": {},
   "outputs": [],
   "source": [
    "with open(labelsPath) as file:\n",
    "    labelsDict = yaml.full_load(file)\n",
    "\n",
    "labelsList = []\n",
    "viewList = []\n",
    "for frameNumber in list(labelsDict.keys()):\n",
    "    frameLabels = labelsDict[frameNumber]\n",
    "    for label in frameLabels:\n",
    "        newLabel = label.copy()\n",
    "        newLabel['class'] = newLabel['class'][0]+'-'+frameNumber\n",
    "        labelsList.append(newLabel)\n",
    "        if newLabel['view'] not in viewList:\n",
    "            viewList.append(newLabel['view'])\n",
    "\n",
    "viewList.sort()\n",
    "viewLabels = [OrderedDict() for _ in range(len(viewList))] #Note: [[]]*len(viewList) doesnt work with .append\n",
    "count = 0\n",
    "for label in labelsList:\n",
    "    newKey = label['class']\n",
    "    viewLabels[label['view']][newKey] = label['location']\n",
    "\n",
    "pairCombinations = list(itertools.combinations(list(range(len(viewLabels))),2))\n",
    "pairMatches = [[] for _ in range(len(pairCombinations))]\n",
    "for i, pairCombination in enumerate(pairCombinations):\n",
    "    halfMatchesA = list(viewLabels[pairCombination[0]].keys())\n",
    "    halfMatchesB = list(viewLabels[pairCombination[1]].keys())\n",
    "    for halfMatch in halfMatchesA:\n",
    "        if halfMatch in halfMatchesB:\n",
    "            pair = (halfMatchesA.index(halfMatch),halfMatchesB.index(halfMatch))\n",
    "            if pair[::-1] not in pairMatches[i]:\n",
    "                pairMatches[i].append(pair)\n",
    "            "
   ]
  },
  {
   "cell_type": "code",
   "execution_count": 17,
   "metadata": {},
   "outputs": [
    {
     "name": "stdout",
     "output_type": "stream",
     "text": [
      " You called : \n",
      "openMVG_main_SfMInit_ImageListing\n",
      "--imageDirectory ../calibration_data/western_battery_1/calibration_scene_images\n",
      "--sensorWidthDatabase ../openmvg/openMVG/src/openMVG/exif/sensor_width_database/sensor_width_camera_database.txt\n",
      "--outputDirectory ../calibration_data/western_battery_1/calibration_scene_matches\n",
      "--focal -1\n",
      "--intrinsics \n",
      "--camera_model 3\n",
      "--group_camera_model 1\n",
      "\n",
      "- Image listing -\n",
      "0%   10   20   30   40   50   60   70   80   90   100%\n",
      "|----|----|----|----|----|----|----|----|----|----|\n",
      "***************************************************\n",
      "\n",
      "SfMInit_ImageListing report:\n",
      "listed #File(s): 4\n",
      "usable #File(s) listed in sfm_data: 4\n",
      "usable #Intrinsic(s) listed in sfm_data: 0\n"
     ]
    }
   ],
   "source": [
    "# create the sfm_data.json file\n",
    "# fuction documentation: https://openmvg.readthedocs.io/en/latest/software/SfM/SfMInit_ImageListing/\n",
    "!openMVG_main_SfMInit_ImageListing \\\n",
    "-i {imagesRelativePath} \\\n",
    "-d ../openmvg/openMVG/src/openMVG/exif/sensor_width_database/sensor_width_camera_database.txt \\\n",
    "-o {matchesRelativePath} \\\n",
    "-g 1 # 1 is the defaut, all views are one camera. 0 gives each view its own intrinsics\n",
    "\n",
    "# get the file names\n",
    "with open(sfmDataRelativePath) as json_file:\n",
    "    data = json.load(json_file)\n",
    "    viewNames = [None for _ in range(len(data['views']))]\n",
    "    for view in data['views']:\n",
    "        viewNames[view['key']] = view['value']['ptr_wrapper']['data']['filename'].split('.')[0]\n",
    "        \n",
    "# dump feature files\n",
    "for i, name in enumerate(viewNames):\n",
    "    featureFileName = os.path.join(matchesPath,name+'.feat')\n",
    "    keypoints = np.array(list(viewLabels[i].values()))\n",
    "    features = np.pad(keypoints, pad_width=[[0,0],[0,2]], mode='constant', constant_values=0)\n",
    "    np.savetxt(featureFileName, features, fmt='%.6g')\n",
    "    \n",
    "# write match file\n",
    "with open(os.path.join(matchesPath,'matches.e.txt'),'w') as file:\n",
    "    for i, pairCombination in enumerate(pairCombinations):\n",
    "        file.write(f'{pairCombination[0]} {pairCombination[1]}\\n')\n",
    "        file.write(f'{len(pairMatches[i])}\\n')\n",
    "        for pairMatch in pairMatches[i]:\n",
    "            file.write(f'{pairMatch[0]} {pairMatch[1]}\\n')"
   ]
  },
  {
   "cell_type": "markdown",
   "metadata": {},
   "source": [
    "## NOTE: This is where we run into issues for the first time"
   ]
  },
  {
   "cell_type": "code",
   "execution_count": 18,
   "metadata": {},
   "outputs": [
    {
     "name": "stdout",
     "output_type": "stream",
     "text": [
      "\r\n",
      "-----------------------------------------------------------\r\n",
      "Global Structure from Motion:\r\n",
      "-----------------------------------------------------------\r\n",
      "Open Source implementation of the paper:\r\n",
      "\"Global Fusion of Relative Motions for Robust, Accurate and Scalable Structure from Motion.\"\r\n",
      "Pierre Moulon, Pascal Monasse and Renaud Marlet.  ICCV 2013.\r\n",
      "------------------------------------------------------------\r\n",
      "\r\n",
      "- Features Loading -\r\n",
      "0%   10   20   30   40   50   60   70   80   90   100%\r\n",
      "|----|----|----|----|----|----|----|----|----|----|\r\n",
      "***************************************************\r\n",
      "\r\n",
      "CleanGraph_KeepLargestBiEdge_Nodes():: => connected Component: 1\r\n",
      "Connected component of size: 4\r\n",
      "\r\n",
      "- Relative pose computation -\r\n",
      "0%   10   20   30   40   50   60   70   80   90   100%\r\n",
      "|----|----|----|----|----|----|----|----|----|----|\r\n",
      "***************************************************\r\n",
      "Relative motion computation took: 0(ms)\r\n",
      "GlobalSfM:: Rotation Averaging failure!\r\n"
     ]
    }
   ],
   "source": [
    "# fuction documentation: https://openmvg.readthedocs.io/en/latest/software/SfM/GlobalSfM/\n",
    "!openMVG_main_GlobalSfM -i {sfmDataRelativePath} -m {matchesRelativePath} -o {reconstructionRelativePath}\n",
    "\n",
    "#!openMVG_main_IncrementalSfM -i {sfmDataRelativePath} -m {matchesRelativePath} -o {reconstructionRelativePath}"
   ]
  }
 ],
 "metadata": {
  "kernelspec": {
   "display_name": "Python 3",
   "language": "python",
   "name": "python3"
  },
  "language_info": {
   "codemirror_mode": {
    "name": "ipython",
    "version": 3
   },
   "file_extension": ".py",
   "mimetype": "text/x-python",
   "name": "python",
   "nbconvert_exporter": "python",
   "pygments_lexer": "ipython3",
   "version": "3.7.6"
  }
 },
 "nbformat": 4,
 "nbformat_minor": 4
}
